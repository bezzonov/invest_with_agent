{
 "cells": [
  {
   "cell_type": "code",
   "execution_count": 5,
   "id": "8a87b4e9",
   "metadata": {},
   "outputs": [],
   "source": [
    "import pandas as pd\n",
    "import numpy as np\n",
    "from sqlalchemy import create_engine, TIMESTAMP, JSON\n",
    "from datetime import datetime, timedelta"
   ]
  },
  {
   "cell_type": "code",
   "execution_count": 16,
   "id": "f77353e9",
   "metadata": {},
   "outputs": [],
   "source": [
    "def connection():\n",
    "    db_params = {\n",
    "    'dbname': 'rl_trade',\n",
    "    'user': 'bezzonov',\n",
    "    'password': 'bezzonov_rl_trade',\n",
    "    'host': '46.17.100.206',\n",
    "    'port': '5432'}\n",
    "    conn = create_engine(f'postgresql+psycopg2://{db_params[\"user\"]}:{db_params[\"password\"]}@{db_params[\"host\"]}:{db_params[\"port\"]}/{db_params[\"dbname\"]}')\n",
    "    return conn\n",
    "\n",
    "def shares_list_for_user(conn, table_name, threshold_date):\n",
    "    query = f\"\"\"\n",
    "        WITH shares_today_available as\n",
    "            (\n",
    "            SELECT DISTINCT ticker\n",
    "            FROM {table_name}\n",
    "            WHERE time = '{datetime.strftime(datetime.today() - timedelta(days=2), '%Y-%m-%d')}'\n",
    "            ),\n",
    "\n",
    "        shares_rows as\n",
    "            (\n",
    "            SELECT ticker, count(*) as shares_rows_num\n",
    "            FROM {table_name}\n",
    "            WHERE time >= '{threshold_date}'\n",
    "            GROUP BY ticker\n",
    "            ORDER BY count(*) DESC\n",
    "            ),\n",
    "\n",
    "        shares_most_common as\n",
    "            (\n",
    "            SELECT ticker\n",
    "            FROM shares_rows\n",
    "            WHERE shares_rows_num = (\n",
    "                                    select max(shares_rows_num)\n",
    "                                    from shares_rows\n",
    "                                    )\n",
    "            )\n",
    "\n",
    "        select t1.ticker\n",
    "        from shares_today_available t1\n",
    "        inner join shares_most_common t2\n",
    "        on t1.ticker = t2.ticker\n",
    "    \"\"\"\n",
    "    data = pd.read_sql_query(query, conn)\n",
    "    return data"
   ]
  },
  {
   "cell_type": "code",
   "execution_count": null,
   "id": "68ba8fec",
   "metadata": {},
   "outputs": [
    {
     "data": {
      "text/plain": [
       "['AFLT',\n",
       " 'ALRS',\n",
       " 'CHMF',\n",
       " 'GAZP',\n",
       " 'HYDR',\n",
       " 'IRAO',\n",
       " 'LKOH',\n",
       " 'MAGN',\n",
       " 'MGNT',\n",
       " 'MOEX',\n",
       " 'MTSS',\n",
       " 'NLMK',\n",
       " 'NVTK',\n",
       " 'PHOR',\n",
       " 'PIKK',\n",
       " 'ROSN',\n",
       " 'RTKM',\n",
       " 'SBER',\n",
       " 'SBERP',\n",
       " 'SNGS',\n",
       " 'SNGSP',\n",
       " 'TATN']"
      ]
     },
     "execution_count": 21,
     "metadata": {},
     "output_type": "execute_result"
    }
   ],
   "source": [
    "shares_list_for_user(connection(), 'hour_shares_data', '2015-01-01')['ticker'].values.tolist()"
   ]
  },
  {
   "cell_type": "code",
   "execution_count": null,
   "id": "f0fdaa1c",
   "metadata": {},
   "outputs": [],
   "source": []
  }
 ],
 "metadata": {
  "kernelspec": {
   "display_name": "rl_env",
   "language": "python",
   "name": "python3"
  },
  "language_info": {
   "codemirror_mode": {
    "name": "ipython",
    "version": 3
   },
   "file_extension": ".py",
   "mimetype": "text/x-python",
   "name": "python",
   "nbconvert_exporter": "python",
   "pygments_lexer": "ipython3",
   "version": "3.10.0"
  }
 },
 "nbformat": 4,
 "nbformat_minor": 5
}
